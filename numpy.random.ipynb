{
 "cells": [
  {
   "cell_type": "markdown",
   "id": "00192547",
   "metadata": {},
   "source": [
    "# The numpy.random package"
   ]
  },
  {
   "cell_type": "markdown",
   "id": "92ef6f06-4e2b-4b98-8477-16f5547bb956",
   "metadata": {},
   "source": [
    "# Explain the overall purpose of the package\n",
    "***\n",
    "Numpy is the go-to package for computation in Python. It is a Python library that multidimensional array object, various derived objects (such as masked arrays and matrices), and an assortment of routines for fast operations on arrays, including mathematical, logical, shape manipulation, sorting, selecting, I/O, discrete Fourier transforms, basic linear algebra, basic statistical operations, random simulation and much more.\n",
    "\n",
    "\n"
   ]
  },
  {
   "cell_type": "code",
   "execution_count": 9,
   "id": "272b389b-e14a-44aa-a55c-171eefd34939",
   "metadata": {},
   "outputs": [],
   "source": [
    "# Import packages that will be used\n",
    "import numpy as np\n",
    "import matplotlib.pyplot as plt"
   ]
  },
  {
   "cell_type": "code",
   "execution_count": null,
   "id": "23abea83-565e-4b57-9b4e-12cd48394b34",
   "metadata": {},
   "outputs": [],
   "source": []
  },
  {
   "cell_type": "markdown",
   "id": "532aa22a-c0c6-4409-a890-0b70ee21871f",
   "metadata": {},
   "source": [
    "# Explain the use of the “Simple random data” and “Permutations” functions\n",
    "***\n",
    "Ther are two permutations functions: \"shuffle\" and \"permutation\". The shuffle function mixes the array along the first axis of a multi-dimensional array. The parameter passed in is the array, list or mutable sequence to be shuffled. [1] For multi-demensional arrays, the order of the sub arrays are changed but the elements inside remain the same. The permutation function mixes the elements inside an array randomly. If an integer (x) is passed into the function, it will return a shuffled range up to but not including x.\n",
    "\n",
    "\n",
    "\n",
    "\n"
   ]
  },
  {
   "cell_type": "code",
   "execution_count": null,
   "id": "7c491a0e-85c3-4fab-a98a-67707619b69a",
   "metadata": {},
   "outputs": [],
   "source": []
  },
  {
   "cell_type": "code",
   "execution_count": 10,
   "id": "42259e08-a848-4884-97e9-4b84a1c8ab5b",
   "metadata": {},
   "outputs": [
    {
     "data": {
      "text/plain": [
       "array([0, 1, 2, 3, 4, 5, 6, 7, 8, 9])"
      ]
     },
     "execution_count": 10,
     "metadata": {},
     "output_type": "execute_result"
    }
   ],
   "source": [
    "# Create and array 'a' \n",
    "a = np.arange(10)\n",
    "a"
   ]
  },
  {
   "cell_type": "markdown",
   "id": "40c3099c-92ed-4533-bc1e-8120ca19f528",
   "metadata": {},
   "source": [
    "## Example of shuffle function"
   ]
  },
  {
   "cell_type": "code",
   "execution_count": null,
   "id": "0258c914-5c4b-4042-82db-a1f4c1c51a9a",
   "metadata": {},
   "outputs": [],
   "source": []
  },
  {
   "cell_type": "markdown",
   "id": "cdba2bd0-e254-41ae-a047-ab8cbe8335c3",
   "metadata": {},
   "source": [
    "## Example of permutations function"
   ]
  },
  {
   "cell_type": "code",
   "execution_count": 12,
   "id": "99a95bcd-a0eb-4a9c-8cff-80d11459aef5",
   "metadata": {},
   "outputs": [
    {
     "data": {
      "text/plain": [
       "array([5, 9, 3, 4, 7, 2, 0, 6, 1, 8])"
      ]
     },
     "execution_count": 12,
     "metadata": {},
     "output_type": "execute_result"
    }
   ],
   "source": [
    "\n",
    "np.random.permutation(10)"
   ]
  },
  {
   "cell_type": "code",
   "execution_count": null,
   "id": "38d399ae-0d06-4776-b94a-f16362a4098f",
   "metadata": {},
   "outputs": [],
   "source": []
  },
  {
   "cell_type": "markdown",
   "id": "d71aad60-907d-4c2c-aff6-9afd3dd9e3f9",
   "metadata": {},
   "source": [
    "# Explain the use and purpose of at least five “Distributions” functions\n",
    "***\n"
   ]
  },
  {
   "cell_type": "markdown",
   "id": "abc252cf-922c-41d2-98ad-8a59b752482c",
   "metadata": {},
   "source": [
    "# Explain the use of seeds in generating pseudorandom numbers\n",
    "***\n"
   ]
  },
  {
   "cell_type": "markdown",
   "id": "593d258f-7b3e-4172-a714-029908e07719",
   "metadata": {},
   "source": [
    "A pseudorandom number generator is an algorithm that uses mathematical formulas to create sequences of random numbers. The numbers produced are an approximation of, but not true random numbers."
   ]
  },
  {
   "cell_type": "markdown",
   "id": "7ee418a0-550a-4a99-be97-d752070c9bac",
   "metadata": {},
   "source": [
    "# References \n",
    "***\n",
    "[1] https://numpy.org/doc/stable/reference/random/generated/numpy.random.shuffle.html"
   ]
  },
  {
   "cell_type": "code",
   "execution_count": null,
   "id": "7f710b6c-ce67-4c56-a2eb-64271915bddb",
   "metadata": {},
   "outputs": [],
   "source": []
  },
  {
   "cell_type": "code",
   "execution_count": null,
   "id": "c247e95c-df13-40f9-aed9-815932802dc9",
   "metadata": {},
   "outputs": [],
   "source": []
  },
  {
   "cell_type": "code",
   "execution_count": null,
   "id": "110529c4-d09b-4913-86b8-ac313b5fad5a",
   "metadata": {},
   "outputs": [],
   "source": []
  },
  {
   "cell_type": "code",
   "execution_count": null,
   "id": "36837c83-eb6c-4736-bb32-51e160af1906",
   "metadata": {},
   "outputs": [],
   "source": []
  }
 ],
 "metadata": {
  "kernelspec": {
   "display_name": "Python 3",
   "language": "python",
   "name": "python3"
  },
  "language_info": {
   "codemirror_mode": {
    "name": "ipython",
    "version": 3
   },
   "file_extension": ".py",
   "mimetype": "text/x-python",
   "name": "python",
   "nbconvert_exporter": "python",
   "pygments_lexer": "ipython3",
   "version": "3.8.8"
  }
 },
 "nbformat": 4,
 "nbformat_minor": 5
}
