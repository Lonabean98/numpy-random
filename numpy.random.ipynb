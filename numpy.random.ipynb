{
 "cells": [
  {
   "cell_type": "markdown",
   "id": "00192547",
   "metadata": {},
   "source": [
    "# The numpy.random package"
   ]
  },
  {
   "cell_type": "markdown",
   "id": "92ef6f06-4e2b-4b98-8477-16f5547bb956",
   "metadata": {},
   "source": [
    "# Explain the overall purpose of the package\n",
    "***\n",
    "Numpy is the go-to package for computation in Python. It is a Python library that multidimensional array object, various derived objects (such as masked arrays and matrices), and an assortment of routines for fast operations on arrays, including mathematical, logical, shape manipulation, sorting, selecting, I/O, discrete Fourier transforms, basic linear algebra, basic statistical operations, random simulation and much more.\n",
    "\n",
    "\n"
   ]
  },
  {
   "cell_type": "code",
   "execution_count": 4,
   "id": "272b389b-e14a-44aa-a55c-171eefd34939",
   "metadata": {},
   "outputs": [],
   "source": [
    "# Import packages that will be used\n",
    "import numpy as np\n",
    "import matplotlib.pyplot as plt"
   ]
  },
  {
   "cell_type": "code",
   "execution_count": null,
   "id": "23abea83-565e-4b57-9b4e-12cd48394b34",
   "metadata": {},
   "outputs": [],
   "source": []
  },
  {
   "cell_type": "markdown",
   "id": "532aa22a-c0c6-4409-a890-0b70ee21871f",
   "metadata": {},
   "source": [
    "# Explain the use of the “Simple random data” and “Permutations” functions\n",
    "***\n",
    "\n",
    "\n",
    "\n",
    "\n",
    "\n",
    "\n"
   ]
  },
  {
   "cell_type": "markdown",
   "id": "1bdc7603-e708-4013-a927-a86834b9a236",
   "metadata": {},
   "source": [
    "## Simple random data"
   ]
  },
  {
   "cell_type": "markdown",
   "id": "9c4cc43a-2ba8-4c4b-b3db-7e3955ea8e36",
   "metadata": {},
   "source": [
    "A simple random sample is a randomly selected group of a population. Each member of the population has an equal chance of being selected. "
   ]
  },
  {
   "cell_type": "markdown",
   "id": "685fe787-20a3-446c-8568-bb2410b4bee4",
   "metadata": {},
   "source": [
    "**random.Generator.integers**"
   ]
  },
  {
   "cell_type": "markdown",
   "id": "9e0e8c3d-144e-43f7-beb1-b5eb1dfb6be3",
   "metadata": {},
   "source": [
    "This function returns random integers in a given range and shape. The shape refers to how many numbers are outputted, and in what groups. It returns integers from the “discrete uniform” distribution of the specified dtype. [2] dtype or \"Data type objects\" refers to how the bytes that make up array objects should be interpreted i.e if they are an integer, float, how many bytes in the number etc. [3]"
   ]
  },
  {
   "cell_type": "markdown",
   "id": "dd1a8d04-bb01-4ac9-ac5e-4a0e55d3e17b",
   "metadata": {},
   "source": [
    "**Examples**"
   ]
  },
  {
   "cell_type": "code",
   "execution_count": 5,
   "id": "93ad42f9-b72d-4f39-9ccb-2ea1237b8552",
   "metadata": {},
   "outputs": [
    {
     "data": {
      "text/plain": [
       "array([2, 1, 3, 1, 2, 3, 4, 0, 4, 0], dtype=int64)"
      ]
     },
     "execution_count": 5,
     "metadata": {},
     "output_type": "execute_result"
    }
   ],
   "source": [
    "rng = np.random.default_rng()\n",
    "# Generate 10 random integers up to (but not including) 5.\n",
    "rng.integers(5, size = 10)"
   ]
  },
  {
   "cell_type": "code",
   "execution_count": 6,
   "id": "b340de24-92e8-472c-a9f2-136969b5a259",
   "metadata": {},
   "outputs": [
    {
     "data": {
      "text/plain": [
       "array([[14,  7, 11,  3, 17],\n",
       "       [13,  1,  2,  8,  6]], dtype=int64)"
      ]
     },
     "execution_count": 6,
     "metadata": {},
     "output_type": "execute_result"
    }
   ],
   "source": [
    "# Generate 10 random integers in a 2 x 5 array, up to but not including 20.\n",
    "rng.integers(20, size= (2, 5))"
   ]
  },
  {
   "cell_type": "code",
   "execution_count": 7,
   "id": "22d81786-dda3-4989-9606-fadbaa1ec8c0",
   "metadata": {},
   "outputs": [
    {
     "data": {
      "text/plain": [
       "array([ 9, 18, 11], dtype=int64)"
      ]
     },
     "execution_count": 7,
     "metadata": {},
     "output_type": "execute_result"
    }
   ],
   "source": [
    "# Generate a 1 x 3 array with different lower bounds for each integer and a higher bound of 20\n",
    "rng.integers([3, 5, 10], 20)"
   ]
  },
  {
   "cell_type": "code",
   "execution_count": 8,
   "id": "25df6120-2e41-45aa-af53-8126585a708e",
   "metadata": {},
   "outputs": [
    {
     "data": {
      "text/plain": [
       "array([ 2,  6, 10,  6], dtype=int64)"
      ]
     },
     "execution_count": 8,
     "metadata": {},
     "output_type": "execute_result"
    }
   ],
   "source": [
    "# Generate a 1 x 4 array, with a lower bound of 2 and different higher bounds.\n",
    "rng.integers(2, [3, 7, 15, 10])"
   ]
  },
  {
   "cell_type": "markdown",
   "id": "22a328b6-8d66-4b23-9633-7b74f1488478",
   "metadata": {},
   "source": [
    "**random.Generator.random**"
   ]
  },
  {
   "cell_type": "markdown",
   "id": "dfbc236c-18c9-4b89-99d1-b3999284be3d",
   "metadata": {},
   "source": [
    "This function returns random floats in the half-open interval [0.0, 1.0) of shape size. If nothing is entered for size, a single value is returned.\n",
    "\n"
   ]
  },
  {
   "cell_type": "markdown",
   "id": "2a6a8766-dc3f-48cc-8a2f-6508e7e23b7c",
   "metadata": {},
   "source": [
    "A half-open interval is an interval in which one endpoint is included but not the other. In this case, it means greater than or equal to 0 and less than 1. [4] Results are from the “continuous uniform” distribution over the stated interval. [5]"
   ]
  },
  {
   "cell_type": "markdown",
   "id": "0b21fa92-7585-4fa9-9ab0-4d3792f53dea",
   "metadata": {},
   "source": [
    "**Examples**"
   ]
  },
  {
   "cell_type": "code",
   "execution_count": 18,
   "id": "7b2347a9-2ea4-4030-891a-3a9dbfc3d8e4",
   "metadata": {},
   "outputs": [
    {
     "data": {
      "text/plain": [
       "0.06819910491960468"
      ]
     },
     "execution_count": 18,
     "metadata": {},
     "output_type": "execute_result"
    }
   ],
   "source": [
    "rng = np.random.default_rng()\n",
    "# Generate float from 0 up to but not including 1.0\n",
    "rng.random()"
   ]
  },
  {
   "cell_type": "markdown",
   "id": "792c6833-f73f-4ddd-8224-4fcd2b97da29",
   "metadata": {},
   "source": []
  },
  {
   "cell_type": "code",
   "execution_count": 20,
   "id": "3c0222cf-afd5-4b53-bd8f-49ea31991489",
   "metadata": {},
   "outputs": [
    {
     "data": {
      "text/plain": [
       "array([[0.10248449, 0.65210547, 0.05725053, 0.92938408, 0.7839141 ],\n",
       "       [0.4334125 , 0.1939885 , 0.44785686, 0.73410054, 0.93906988],\n",
       "       [0.14263544, 0.49684311, 0.22332262, 0.26002698, 0.87944999],\n",
       "       [0.679202  , 0.51161233, 0.68545184, 0.1768084 , 0.3460617 ]])"
      ]
     },
     "execution_count": 20,
     "metadata": {},
     "output_type": "execute_result"
    }
   ],
   "source": [
    "# Return 4 x 5 array of floats \n",
    "rng.random((4,5))"
   ]
  },
  {
   "cell_type": "markdown",
   "id": "77f280aa-fdc6-48ae-9f82-b354911d3939",
   "metadata": {},
   "source": [
    "**random.Generator.choice**"
   ]
  },
  {
   "cell_type": "markdown",
   "id": "6b69fba7-9c87-4d61-b3ec-4889558ab2d5",
   "metadata": {},
   "source": [
    "This function returns a random sample from a given array. If an integer \"a\" is passed in, the sample is taken from np.arange(a).[6] np.arange returns evenly spaced values within a given interval. [7] The probabilities of each entry can be set. You can specify wheter results can be selected multiple times or not, with the *replace* argument. By default, a value can be chosen multiple times."
   ]
  },
  {
   "cell_type": "markdown",
   "id": "5cd0f371-0a75-4dab-9fd1-ab904f1145a6",
   "metadata": {},
   "source": [
    "**Examples**"
   ]
  },
  {
   "cell_type": "code",
   "execution_count": 21,
   "id": "e888b865-c8e0-4971-8fa8-465482a579f1",
   "metadata": {},
   "outputs": [
    {
     "data": {
      "text/plain": [
       "array([6, 6, 5, 5], dtype=int64)"
      ]
     },
     "execution_count": 21,
     "metadata": {},
     "output_type": "execute_result"
    }
   ],
   "source": [
    "rng = np.random.default_rng()\n",
    "# Choose a random sample of 4 integers from the range 0-7\n",
    "rng.choice(7, 4)"
   ]
  },
  {
   "cell_type": "code",
   "execution_count": 28,
   "id": "c56eafcf-6f68-4859-9a10-7491574d5819",
   "metadata": {},
   "outputs": [
    {
     "data": {
      "text/plain": [
       "array([4, 2, 4, 2, 1, 0, 0, 5], dtype=int64)"
      ]
     },
     "execution_count": 28,
     "metadata": {},
     "output_type": "execute_result"
    }
   ],
   "source": [
    "# Choose a sample of 8 values from the range 0-6, with probabilities given.\n",
    "rng.choice(6, 8, p=[0.2, 0.1, 0.3, 0, 0.2, 0.2])"
   ]
  },
  {
   "cell_type": "code",
   "execution_count": 32,
   "id": "abef1b61-1019-47d8-8b50-8a072dce4485",
   "metadata": {},
   "outputs": [
    {
     "data": {
      "text/plain": [
       "array([2, 0, 4, 3, 7, 1, 5], dtype=int64)"
      ]
     },
     "execution_count": 32,
     "metadata": {},
     "output_type": "execute_result"
    }
   ],
   "source": [
    "# Choose a sample of 7 integers from the range 0-10, without duplicates.\n",
    "rng.choice(10, 7, replace=False)"
   ]
  },
  {
   "cell_type": "code",
   "execution_count": null,
   "id": "e04adafa-9bb5-4dc1-813b-865cbcc7060f",
   "metadata": {},
   "outputs": [],
   "source": []
  },
  {
   "cell_type": "markdown",
   "id": "22409994-6ae1-437f-b8ab-55dacb8b2bf8",
   "metadata": {},
   "source": [
    "## Permutations functions \n",
    "There are two permutations functions: \"shuffle\" and \"permutation\". The shuffle function mixes the array along the first axis of a multi-dimensional array. The parameter passed in is the array, list or mutable sequence to be shuffled. [1] For multi-demensional arrays, the order of the sub arrays are changed but the elements inside remain the same. The permutation function mixes the elements inside an array randomly. If an integer (x) is passed into the function, it will return a shuffled range up to but not including x."
   ]
  },
  {
   "cell_type": "code",
   "execution_count": 10,
   "id": "42259e08-a848-4884-97e9-4b84a1c8ab5b",
   "metadata": {},
   "outputs": [
    {
     "data": {
      "text/plain": [
       "array([0, 1, 2, 3, 4, 5, 6, 7, 8, 9])"
      ]
     },
     "execution_count": 10,
     "metadata": {},
     "output_type": "execute_result"
    }
   ],
   "source": [
    "# Create and array 'arr'\n",
    "rng = np.random.default_rng()\n",
    "arr = np.arange(10)\n",
    "arr"
   ]
  },
  {
   "cell_type": "markdown",
   "id": "40c3099c-92ed-4533-bc1e-8120ca19f528",
   "metadata": {},
   "source": [
    "## Example of shuffle function"
   ]
  },
  {
   "cell_type": "code",
   "execution_count": 11,
   "id": "c8004012-ec76-463b-b5c7-b8636b0c7d1d",
   "metadata": {},
   "outputs": [
    {
     "data": {
      "text/plain": [
       "array([5, 0, 9, 1, 2, 7, 6, 3, 8, 4])"
      ]
     },
     "execution_count": 11,
     "metadata": {},
     "output_type": "execute_result"
    }
   ],
   "source": [
    "# Shuffle the array \n",
    "rng.shuffle(arr)\n",
    "arr"
   ]
  },
  {
   "cell_type": "code",
   "execution_count": 12,
   "id": "aa0e5320-2568-4723-b6ca-7baaf50970f2",
   "metadata": {},
   "outputs": [
    {
     "data": {
      "text/plain": [
       "array([[5, 0],\n",
       "       [9, 1],\n",
       "       [2, 7],\n",
       "       [6, 3],\n",
       "       [8, 4]])"
      ]
     },
     "execution_count": 12,
     "metadata": {},
     "output_type": "execute_result"
    }
   ],
   "source": [
    "# Reshape the array \n",
    "newarr = arr.reshape(5,2)\n",
    "newarr"
   ]
  },
  {
   "cell_type": "code",
   "execution_count": 13,
   "id": "95ec2072-2869-487d-b60b-c03539754efd",
   "metadata": {},
   "outputs": [
    {
     "data": {
      "text/plain": [
       "array([4, 9, 5, 1, 7, 8, 2, 6, 3, 0])"
      ]
     },
     "execution_count": 13,
     "metadata": {},
     "output_type": "execute_result"
    }
   ],
   "source": [
    "# Shuffle the newly arranged array\n",
    "np.random.shuffle(arr)\n",
    "arr"
   ]
  },
  {
   "cell_type": "markdown",
   "id": "a5710df5-b392-4693-b55e-d41fc71e54b5",
   "metadata": {},
   "source": [
    "We can see that the elements in each array remain the same, but the positions of each sub array is randomized (shuffled)"
   ]
  },
  {
   "cell_type": "code",
   "execution_count": null,
   "id": "8f9c671c-a9ef-4fb5-81e0-4f121e3e6a81",
   "metadata": {},
   "outputs": [],
   "source": []
  },
  {
   "cell_type": "code",
   "execution_count": null,
   "id": "eafb9103-bfe6-40fa-a92b-b7d60c5b6f71",
   "metadata": {},
   "outputs": [],
   "source": []
  },
  {
   "cell_type": "markdown",
   "id": "cdba2bd0-e254-41ae-a047-ab8cbe8335c3",
   "metadata": {},
   "source": [
    "## Example of permutations function"
   ]
  },
  {
   "cell_type": "code",
   "execution_count": 14,
   "id": "99a95bcd-a0eb-4a9c-8cff-80d11459aef5",
   "metadata": {},
   "outputs": [
    {
     "data": {
      "text/plain": [
       "array([8, 5, 6, 4, 0, 9, 2, 7, 1, 3])"
      ]
     },
     "execution_count": 14,
     "metadata": {},
     "output_type": "execute_result"
    }
   ],
   "source": [
    "# Randomly arrange a sequence up to 10\n",
    "rng = np.random.default_rng()\n",
    "rng.permutation(10)\n"
   ]
  },
  {
   "cell_type": "code",
   "execution_count": 15,
   "id": "38d399ae-0d06-4776-b94a-f16362a4098f",
   "metadata": {},
   "outputs": [
    {
     "data": {
      "text/plain": [
       "array([2, 0, 9, 1, 3, 6, 8, 7, 4, 5])"
      ]
     },
     "execution_count": 15,
     "metadata": {},
     "output_type": "execute_result"
    }
   ],
   "source": [
    "# Randomly arrange the array I created earlier\n",
    "rng.permutation(arr)"
   ]
  },
  {
   "cell_type": "code",
   "execution_count": 16,
   "id": "9a79301a-3aeb-498c-b0ca-39ef3511bc34",
   "metadata": {},
   "outputs": [
    {
     "data": {
      "text/plain": [
       "array([[4, 9],\n",
       "       [5, 1],\n",
       "       [7, 8],\n",
       "       [2, 6],\n",
       "       [3, 0]])"
      ]
     },
     "execution_count": 16,
     "metadata": {},
     "output_type": "execute_result"
    }
   ],
   "source": [
    "rng.permutation(newarr)\n",
    "newarr"
   ]
  },
  {
   "cell_type": "code",
   "execution_count": null,
   "id": "763a1b21-ade4-4a33-ae96-cc48ef0125c7",
   "metadata": {},
   "outputs": [],
   "source": []
  },
  {
   "cell_type": "markdown",
   "id": "d71aad60-907d-4c2c-aff6-9afd3dd9e3f9",
   "metadata": {},
   "source": [
    "# Explain the use and purpose of at least five “Distributions” functions\n",
    "***\n"
   ]
  },
  {
   "cell_type": "markdown",
   "id": "bd47ce8f-9566-4d30-857d-73ae1d274430",
   "metadata": {},
   "source": [
    "\"A probability distribution is the mathematical function that gives the probabilities of occurrence of different possible outcomes for an experiment\" [8] There are many different types of probability distributions."
   ]
  },
  {
   "cell_type": "markdown",
   "id": "20384763-389d-4144-8738-7f3f031b4cb6",
   "metadata": {},
   "source": []
  },
  {
   "cell_type": "markdown",
   "id": "52c14c70-e63f-46bb-a20c-279aeba0d05a",
   "metadata": {},
   "source": []
  },
  {
   "cell_type": "markdown",
   "id": "7f8d329c-6ba9-4377-bc8c-2bcd2cf1ea85",
   "metadata": {},
   "source": [
    "## Gamma distribution"
   ]
  },
  {
   "cell_type": "markdown",
   "id": "5b6a812c-9a73-45b3-8fc9-0e572311a3e8",
   "metadata": {},
   "source": [
    "The gamma distribution is often used to estimate how long it will take for an electronic component to fail. It arises in processes in which the waiting times between Poisson distributed events are relevant. [9]"
   ]
  },
  {
   "cell_type": "markdown",
   "id": "8824ef14-4d91-416d-aef1-9e447bf4eb2c",
   "metadata": {},
   "source": [
    "## Poisson distribution"
   ]
  },
  {
   "cell_type": "markdown",
   "id": "a93d806c-4b72-468e-ac5d-c64b5038f4a1",
   "metadata": {},
   "source": [
    "The poisson distribution measures the probability of a given number of events happening in a specified time period when you know how often the event has occurred. [10]"
   ]
  },
  {
   "cell_type": "markdown",
   "id": "b1dc8650-aa05-45ac-9006-25837ce80c84",
   "metadata": {},
   "source": [
    "**Example**"
   ]
  },
  {
   "cell_type": "markdown",
   "id": "c2666914-3a54-4ac0-bdd1-97305c4b3adc",
   "metadata": {},
   "source": [
    "Samples to be taken from the distribution:"
   ]
  },
  {
   "cell_type": "code",
   "execution_count": 13,
   "id": "2f2db83c-cec7-4f18-a4bd-fd6105c68a34",
   "metadata": {},
   "outputs": [],
   "source": [
    "import numpy as np\n",
    "rng = np.random.default_rng()\n",
    "s = rng.poisson(10, 15000)\n"
   ]
  },
  {
   "cell_type": "code",
   "execution_count": 15,
   "id": "b3ec16fc-82f7-477c-accf-d40aa3b4d933",
   "metadata": {},
   "outputs": [
    {
     "data": {
      "image/png": "[encoded data removed]",
      "text/plain": [
       "<Figure size 432x288 with 1 Axes>"
      ]
     },
     "metadata": {
      "needs_background": "light"
     },
     "output_type": "display_data"
    }
   ],
   "source": [
    "import matplotlib.pyplot as plt\n",
    "plt.hist(s, 14, density=True)\n",
    "plt.show()"
   ]
  },
  {
   "cell_type": "markdown",
   "id": "caa8a0f7-9826-4440-a822-7631a74fa43f",
   "metadata": {},
   "source": [
    "### Binomial distribution"
   ]
  },
  {
   "cell_type": "markdown",
   "id": "a1d1585a-722f-4d0b-9ab7-13733bf80770",
   "metadata": {},
   "source": [
    "The binomial distribution has two possible outcomes. For example, a coin toss has two possible outcomes, heads or tails. A binomial distribtuion must meet the following three criteria: Each trail is independent, meaning the outcome of one trial has no effect on the other. The probability of success or failure (heads or tails) does not change from one trial to another. Finally, the number of trials must be fixed. [11]"
   ]
  },
  {
   "cell_type": "markdown",
   "id": "4207e36d-dd85-489a-9fbd-a2debe51e25d",
   "metadata": {},
   "source": [
    "**example**"
   ]
  },
  {
   "cell_type": "markdown",
   "id": "96e70775-3c99-41a2-92e6-a08435eabc64",
   "metadata": {},
   "source": [
    "Draw samples from the dsitribution:"
   ]
  },
  {
   "cell_type": "code",
   "execution_count": 22,
   "id": "c47abd65-fa12-4c3c-95d3-e583b62ba13e",
   "metadata": {},
   "outputs": [],
   "source": [
    "rng = np.random.default_rng()\n",
    "# The coin is tossed 10 times, with the probability of heads being 0.5. This experiment is carried out 10000 times. \n",
    "h = rng.binomial(10, 0.5, 10000)\n",
    "\n",
    "\n"
   ]
  },
  {
   "cell_type": "markdown",
   "id": "6231b7c7-7909-427c-b058-08ff61edc591",
   "metadata": {},
   "source": [
    "Display histogram of the sample:"
   ]
  },
  {
   "cell_type": "code",
   "execution_count": 23,
   "id": "e4cddf5d-8e23-4b83-a071-2d490e425d0f",
   "metadata": {},
   "outputs": [
    {
     "data": {
      "text/plain": [
       "(array([   8.,   94.,  439., 1170., 2057., 2487., 1990., 1179.,  465.,\n",
       "         111.]),\n",
       " array([ 0.,  1.,  2.,  3.,  4.,  5.,  6.,  7.,  8.,  9., 10.]),\n",
       " <BarContainer object of 10 artists>)"
      ]
     },
     "execution_count": 23,
     "metadata": {},
     "output_type": "execute_result"
    },
    {
     "data": {
      "image/png": "[encoded data removed]",
      "text/plain": [
       "<Figure size 432x288 with 1 Axes>"
      ]
     },
     "metadata": {
      "needs_background": "light"
     },
     "output_type": "display_data"
    }
   ],
   "source": [
    "plt.hist(h)"
   ]
  },
  {
   "cell_type": "markdown",
   "id": "63e14d89-d0fe-4909-b1cc-ee484492abe3",
   "metadata": {},
   "source": [
    "### Multinomial distribution"
   ]
  },
  {
   "cell_type": "markdown",
   "id": "818be60f-9954-41f1-a5d2-3c660656ab18",
   "metadata": {},
   "source": [
    "A multinomial trial is the same as a binomial trial except for one difference: in a multinomial experiment, each trial can have two ***or more*** possible outcomes. A multinomial distribution is the probability distribution of the outcomes from a multinomial experiment. Throwing a dice is an example of a multinomial experiment. Instead of two possible outcomes (tossing a coin), theres are six. Like the binomial distribution, the trials are independent, the probabilities remain the same for each trial and the experiment consists n repeated trials. [12]"
   ]
  },
  {
   "cell_type": "code",
   "execution_count": null,
   "id": "42880a09-b576-4f24-bf5d-317a75d0a48b",
   "metadata": {},
   "outputs": [],
   "source": []
  },
  {
   "cell_type": "code",
   "execution_count": null,
   "id": "3d043bc1-832d-4f2d-aaa5-c81b7b5987b9",
   "metadata": {},
   "outputs": [],
   "source": []
  },
  {
   "cell_type": "code",
   "execution_count": null,
   "id": "20bd17ad-9f2b-498f-9bd5-62f584cc721f",
   "metadata": {},
   "outputs": [],
   "source": []
  },
  {
   "cell_type": "code",
   "execution_count": null,
   "id": "356fef69-dbaa-4f09-91a2-baf8722384e7",
   "metadata": {},
   "outputs": [],
   "source": []
  },
  {
   "cell_type": "code",
   "execution_count": null,
   "id": "f30d2379-c3a4-4a39-a7ae-9d1b5b66f0bd",
   "metadata": {},
   "outputs": [],
   "source": []
  },
  {
   "cell_type": "markdown",
   "id": "abc252cf-922c-41d2-98ad-8a59b752482c",
   "metadata": {},
   "source": [
    "# Explain the use of seeds in generating pseudorandom numbers\n",
    "***\n"
   ]
  },
  {
   "cell_type": "markdown",
   "id": "593d258f-7b3e-4172-a714-029908e07719",
   "metadata": {},
   "source": [
    "A pseudorandom number generator is an algorithm that uses mathematical formulas to create sequences of random numbers. The numbers produced are an approximation of, but not true random numbers."
   ]
  },
  {
   "cell_type": "markdown",
   "id": "7ee418a0-550a-4a99-be97-d752070c9bac",
   "metadata": {},
   "source": [
    "# References \n",
    "***\n",
    "[1] https://numpy.org/doc/stable/reference/random/generated/numpy.random.shuffle.html"
   ]
  },
  {
   "cell_type": "markdown",
   "id": "033c9b60-3b14-4fb0-94b7-cebdb1d06dbb",
   "metadata": {},
   "source": [
    "[2] https://numpy.org/doc/stable/reference/random/generated/numpy.random.Generator.integers.html#numpy.random.Generator.integers"
   ]
  },
  {
   "cell_type": "markdown",
   "id": "95194605-3090-4407-975f-7f985c38e4de",
   "metadata": {},
   "source": [
    "[3] https://numpy.org/doc/stable/reference/arrays.dtypes.html"
   ]
  },
  {
   "cell_type": "markdown",
   "id": "98c6fe1b-bc17-4e65-8977-013fc81102bd",
   "metadata": {},
   "source": [
    "[4] https://mathworld.wolfram.com/Half-ClosedInterval.html"
   ]
  },
  {
   "cell_type": "markdown",
   "id": "b5b00a2c-9b70-418f-a8c0-639ab4ebc116",
   "metadata": {},
   "source": [
    "[5] https://numpy.org/doc/stable/reference/random/generated/numpy.random.Generator.random.html#numpy.random.Generator.random"
   ]
  },
  {
   "cell_type": "markdown",
   "id": "b5e4e481-e2a3-44d2-bac3-6a2ce8dac116",
   "metadata": {},
   "source": [
    "[6] https://numpy.org/doc/stable/reference/random/generated/numpy.random.Generator.choice.html#numpy.random.Generator.choice"
   ]
  },
  {
   "cell_type": "markdown",
   "id": "fbf969ca-be8d-4768-8903-d236b350a768",
   "metadata": {},
   "source": [
    "[7] https://numpy.org/doc/stable/reference/generated/numpy.arange.html"
   ]
  },
  {
   "cell_type": "markdown",
   "id": "f3c7dd7f-8df3-48ec-b5cd-9610f4a7d4a9",
   "metadata": {},
   "source": [
    "[8] https://en.wikipedia.org/wiki/Probability_distribution#cite_note-:02-1"
   ]
  },
  {
   "cell_type": "markdown",
   "id": "1b27f28e-1cdd-4ee2-83cc-2913f33f79ef",
   "metadata": {},
   "source": [
    "[9] https://mathworld.wolfram.com/GammaDistribution.html"
   ]
  },
  {
   "cell_type": "code",
   "execution_count": null,
   "id": "cba931e0-5b9a-4358-ba6f-1abae8e916f4",
   "metadata": {},
   "outputs": [],
   "source": [
    "[10] https://www.statisticshowto.com/probability-and-statistics/statistics-definitions/probability-distribution/poisson-distribution/"
   ]
  },
  {
   "cell_type": "markdown",
   "id": "becd126f-9010-4b59-b4fd-ba4d88353c71",
   "metadata": {},
   "source": [
    "\n"
   ]
  },
  {
   "cell_type": "markdown",
   "id": "d442a2c9-b23f-4164-9374-e3c44070a714",
   "metadata": {},
   "source": [
    "[11] https://www.statisticshowto.com/probability-and-statistics/binomial-theorem/binomial-distribution-formula/"
   ]
  },
  {
   "cell_type": "markdown",
   "id": "4a09fd70-10dc-46e0-b2ca-24a065b1adcc",
   "metadata": {},
   "source": [
    "[12] https://stattrek.com/probability-distributions/multinomial.aspx"
   ]
  },
  {
   "cell_type": "code",
   "execution_count": null,
   "id": "9e57952d-3dd2-4be1-9deb-e002178591a2",
   "metadata": {},
   "outputs": [],
   "source": []
  },
  {
   "cell_type": "code",
   "execution_count": null,
   "id": "7c2bb918-27e7-48c6-bd97-ab49889f05b4",
   "metadata": {},
   "outputs": [],
   "source": []
  },
  {
   "cell_type": "code",
   "execution_count": null,
   "id": "1ea2a614-2952-4d93-ba2b-f605f5ccca9f",
   "metadata": {},
   "outputs": [],
   "source": []
  },
  {
   "cell_type": "code",
   "execution_count": null,
   "id": "0a8f8597-a83f-4e4b-89f5-90d2ff86cc5b",
   "metadata": {},
   "outputs": [],
   "source": []
  },
  {
   "cell_type": "code",
   "execution_count": null,
   "id": "e0a1fc68-5f81-4133-9282-f3a27f0d2722",
   "metadata": {},
   "outputs": [],
   "source": []
  },
  {
   "cell_type": "code",
   "execution_count": null,
   "id": "97cdda95-6562-49fe-98c0-b440853cd668",
   "metadata": {},
   "outputs": [],
   "source": []
  },
  {
   "cell_type": "code",
   "execution_count": null,
   "id": "77b8fe38-6ad7-4344-9fc3-e8f5240130e6",
   "metadata": {},
   "outputs": [],
   "source": []
  },
  {
   "cell_type": "code",
   "execution_count": null,
   "id": "ee9ca819-23bc-468b-9b00-691399e8a4bb",
   "metadata": {},
   "outputs": [],
   "source": []
  },
  {
   "cell_type": "code",
   "execution_count": null,
   "id": "d943cfcb-b8ee-401e-bf15-7f5bb93ed3af",
   "metadata": {},
   "outputs": [],
   "source": []
  },
  {
   "cell_type": "code",
   "execution_count": null,
   "id": "c4e28563-dffb-4cf2-9d80-91a71dde139e",
   "metadata": {},
   "outputs": [],
   "source": []
  },
  {
   "cell_type": "code",
   "execution_count": null,
   "id": "3d8de6b5-4aa1-48ef-bb6f-c4f0466f9b2e",
   "metadata": {},
   "outputs": [],
   "source": []
  },
  {
   "cell_type": "code",
   "execution_count": null,
   "id": "6d61f008-c948-4d2b-b742-5884e7acd917",
   "metadata": {},
   "outputs": [],
   "source": []
  },
  {
   "cell_type": "code",
   "execution_count": null,
   "id": "4c27b5bc-9475-439b-b0a0-4038799120c6",
   "metadata": {},
   "outputs": [],
   "source": []
  },
  {
   "cell_type": "code",
   "execution_count": null,
   "id": "7fcb5c8a-bb5b-4a0c-ba8d-dd1d5bf76355",
   "metadata": {},
   "outputs": [],
   "source": []
  },
  {
   "cell_type": "code",
   "execution_count": null,
   "id": "b57a90a8-87a0-4821-a8f7-0a8353704db0",
   "metadata": {},
   "outputs": [],
   "source": []
  },
  {
   "cell_type": "code",
   "execution_count": null,
   "id": "d61aa602-81ea-4674-89e5-7126c92c584d",
   "metadata": {},
   "outputs": [],
   "source": []
  },
  {
   "cell_type": "code",
   "execution_count": null,
   "id": "f0c08e42-af3d-4808-a973-79243cd902f5",
   "metadata": {},
   "outputs": [],
   "source": []
  }
 ],
 "metadata": {
  "kernelspec": {
   "display_name": "Python 3",
   "language": "python",
   "name": "python3"
  },
  "language_info": {
   "codemirror_mode": {
    "name": "ipython",
    "version": 3
   },
   "file_extension": ".py",
   "mimetype": "text/x-python",
   "name": "python",
   "nbconvert_exporter": "python",
   "pygments_lexer": "ipython3",
   "version": "3.8.8"
  }
 },
 "nbformat": 4,
 "nbformat_minor": 5
}
