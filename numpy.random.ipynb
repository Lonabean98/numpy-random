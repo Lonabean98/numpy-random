{
 "cells": [
  {
   "cell_type": "markdown",
   "id": "00192547",
   "metadata": {},
   "source": [
    "# The numpy.random package"
   ]
  },
  {
   "cell_type": "markdown",
   "id": "92ef6f06-4e2b-4b98-8477-16f5547bb956",
   "metadata": {},
   "source": [
    "# Explain the overall purpose of the package\n",
    "***\n",
    "Numpy is the go-to package for computation in Python. It is a Python library that multidimensional array object, various derived objects (such as masked arrays and matrices), and an assortment of routines for fast operations on arrays, including mathematical, logical, shape manipulation, sorting, selecting, I/O, discrete Fourier transforms, basic linear algebra, basic statistical operations, random simulation and much more.\n",
    "\n",
    "\n"
   ]
  },
  {
   "cell_type": "code",
   "execution_count": 24,
   "id": "272b389b-e14a-44aa-a55c-171eefd34939",
   "metadata": {},
   "outputs": [],
   "source": [
    "# Import packages that will be used\n",
    "import numpy as np\n",
    "import matplotlib.pyplot as plt\n",
    "import seaborn as sns"
   ]
  },
  {
   "cell_type": "code",
   "execution_count": null,
   "id": "23abea83-565e-4b57-9b4e-12cd48394b34",
   "metadata": {},
   "outputs": [],
   "source": []
  },
  {
   "cell_type": "markdown",
   "id": "532aa22a-c0c6-4409-a890-0b70ee21871f",
   "metadata": {},
   "source": [
    "# Explain the use of the “Simple random data” and “Permutations” functions\n",
    "***\n",
    "\n",
    "\n",
    "\n",
    "\n",
    "\n",
    "\n"
   ]
  },
  {
   "cell_type": "markdown",
   "id": "1bdc7603-e708-4013-a927-a86834b9a236",
   "metadata": {},
   "source": [
    "## Simple random data"
   ]
  },
  {
   "cell_type": "markdown",
   "id": "9c4cc43a-2ba8-4c4b-b3db-7e3955ea8e36",
   "metadata": {},
   "source": [
    "A simple random sample is a randomly selected group of a population. Each member of the population has an equal chance of being selected. "
   ]
  },
  {
   "cell_type": "markdown",
   "id": "685fe787-20a3-446c-8568-bb2410b4bee4",
   "metadata": {},
   "source": [
    "**random.Generator.integers**"
   ]
  },
  {
   "cell_type": "markdown",
   "id": "9e0e8c3d-144e-43f7-beb1-b5eb1dfb6be3",
   "metadata": {},
   "source": [
    "This function returns random integers in a given range and shape. The shape refers to how many numbers are outputted, and in what groups. It returns integers from the “discrete uniform” distribution of the specified dtype. [2] dtype or \"Data type objects\" refers to how the bytes that make up array objects should be interpreted i.e if they are an integer, float, how many bytes in the number etc. [3]"
   ]
  },
  {
   "cell_type": "markdown",
   "id": "dd1a8d04-bb01-4ac9-ac5e-4a0e55d3e17b",
   "metadata": {},
   "source": [
    "**Examples**"
   ]
  },
  {
   "cell_type": "code",
   "execution_count": 25,
   "id": "93ad42f9-b72d-4f39-9ccb-2ea1237b8552",
   "metadata": {},
   "outputs": [
    {
     "data": {
      "text/plain": [
       "array([0, 4, 0, 2, 2, 0, 2, 0, 4, 2], dtype=int64)"
      ]
     },
     "execution_count": 25,
     "metadata": {},
     "output_type": "execute_result"
    }
   ],
   "source": [
    "rng = np.random.default_rng()\n",
    "# Generate 10 random integers up to (but not including) 5.\n",
    "rng.integers(5, size = 10)"
   ]
  },
  {
   "cell_type": "code",
   "execution_count": 26,
   "id": "b340de24-92e8-472c-a9f2-136969b5a259",
   "metadata": {},
   "outputs": [
    {
     "data": {
      "text/plain": [
       "array([[18,  4, 17, 13, 15],\n",
       "       [18, 10, 11,  9, 10]], dtype=int64)"
      ]
     },
     "execution_count": 26,
     "metadata": {},
     "output_type": "execute_result"
    }
   ],
   "source": [
    "# Generate 10 random integers in a 2 x 5 array, up to but not including 20.\n",
    "rng.integers(20, size= (2, 5))"
   ]
  },
  {
   "cell_type": "code",
   "execution_count": 27,
   "id": "22d81786-dda3-4989-9606-fadbaa1ec8c0",
   "metadata": {},
   "outputs": [
    {
     "data": {
      "text/plain": [
       "array([ 8,  8, 18], dtype=int64)"
      ]
     },
     "execution_count": 27,
     "metadata": {},
     "output_type": "execute_result"
    }
   ],
   "source": [
    "# Generate a 1 x 3 array with different lower bounds for each integer and a higher bound of 20\n",
    "rng.integers([3, 5, 10], 20)"
   ]
  },
  {
   "cell_type": "code",
   "execution_count": 28,
   "id": "25df6120-2e41-45aa-af53-8126585a708e",
   "metadata": {},
   "outputs": [
    {
     "data": {
      "text/plain": [
       "array([2, 6, 7, 7], dtype=int64)"
      ]
     },
     "execution_count": 28,
     "metadata": {},
     "output_type": "execute_result"
    }
   ],
   "source": [
    "# Generate a 1 x 4 array, with a lower bound of 2 and different higher bounds.\n",
    "rng.integers(2, [3, 7, 15, 10])"
   ]
  },
  {
   "cell_type": "markdown",
   "id": "22a328b6-8d66-4b23-9633-7b74f1488478",
   "metadata": {},
   "source": [
    "**random.Generator.random**"
   ]
  },
  {
   "cell_type": "markdown",
   "id": "dfbc236c-18c9-4b89-99d1-b3999284be3d",
   "metadata": {},
   "source": [
    "This function returns random floats in the half-open interval [0.0, 1.0) of shape size. If nothing is entered for size, a single value is returned.\n",
    "\n"
   ]
  },
  {
   "cell_type": "markdown",
   "id": "2a6a8766-dc3f-48cc-8a2f-6508e7e23b7c",
   "metadata": {},
   "source": [
    "A half-open interval is an interval in which one endpoint is included but not the other. In this case, it means greater than or equal to 0 and less than 1. [4] Results are from the “continuous uniform” distribution over the stated interval. [5]"
   ]
  },
  {
   "cell_type": "markdown",
   "id": "0b21fa92-7585-4fa9-9ab0-4d3792f53dea",
   "metadata": {},
   "source": [
    "**Examples**"
   ]
  },
  {
   "cell_type": "code",
   "execution_count": 29,
   "id": "7b2347a9-2ea4-4030-891a-3a9dbfc3d8e4",
   "metadata": {},
   "outputs": [
    {
     "data": {
      "text/plain": [
       "0.05936347345231019"
      ]
     },
     "execution_count": 29,
     "metadata": {},
     "output_type": "execute_result"
    }
   ],
   "source": [
    "rng = np.random.default_rng()\n",
    "# Generate float from 0 up to but not including 1.0\n",
    "rng.random()"
   ]
  },
  {
   "cell_type": "markdown",
   "id": "792c6833-f73f-4ddd-8224-4fcd2b97da29",
   "metadata": {},
   "source": []
  },
  {
   "cell_type": "code",
   "execution_count": 30,
   "id": "3c0222cf-afd5-4b53-bd8f-49ea31991489",
   "metadata": {},
   "outputs": [
    {
     "data": {
      "text/plain": [
       "array([[0.60507892, 0.14318822, 0.72692911, 0.96787928, 0.39620634],\n",
       "       [0.99293838, 0.15311783, 0.91592065, 0.15894298, 0.88447052],\n",
       "       [0.63539998, 0.1122803 , 0.85911559, 0.82992209, 0.60197688],\n",
       "       [0.3543352 , 0.98988239, 0.75260165, 0.70160223, 0.76482686]])"
      ]
     },
     "execution_count": 30,
     "metadata": {},
     "output_type": "execute_result"
    }
   ],
   "source": [
    "# Return 4 x 5 array of floats \n",
    "rng.random((4,5))"
   ]
  },
  {
   "cell_type": "markdown",
   "id": "77f280aa-fdc6-48ae-9f82-b354911d3939",
   "metadata": {},
   "source": [
    "**random.Generator.choice**"
   ]
  },
  {
   "cell_type": "markdown",
   "id": "6b69fba7-9c87-4d61-b3ec-4889558ab2d5",
   "metadata": {},
   "source": [
    "This function returns a random sample from a given array. If an integer \"a\" is passed in, the sample is taken from np.arange(a).[6] np.arange returns evenly spaced values within a given interval. [7] The probabilities of each entry can be set. You can specify wheter results can be selected multiple times or not, with the *replace* argument. By default, a value can be chosen multiple times."
   ]
  },
  {
   "cell_type": "markdown",
   "id": "5cd0f371-0a75-4dab-9fd1-ab904f1145a6",
   "metadata": {},
   "source": [
    "**Examples**"
   ]
  },
  {
   "cell_type": "code",
   "execution_count": 31,
   "id": "e888b865-c8e0-4971-8fa8-465482a579f1",
   "metadata": {},
   "outputs": [
    {
     "data": {
      "text/plain": [
       "array([4, 0, 1, 1], dtype=int64)"
      ]
     },
     "execution_count": 31,
     "metadata": {},
     "output_type": "execute_result"
    }
   ],
   "source": [
    "rng = np.random.default_rng()\n",
    "# Choose a random sample of 4 integers from the range 0-7\n",
    "rng.choice(7, 4)"
   ]
  },
  {
   "cell_type": "code",
   "execution_count": 32,
   "id": "c56eafcf-6f68-4859-9a10-7491574d5819",
   "metadata": {},
   "outputs": [
    {
     "data": {
      "text/plain": [
       "array([4, 1, 5, 2, 2, 4, 5, 4], dtype=int64)"
      ]
     },
     "execution_count": 32,
     "metadata": {},
     "output_type": "execute_result"
    }
   ],
   "source": [
    "# Choose a sample of 8 values from the range 0-6, with probabilities given.\n",
    "rng.choice(6, 8, p=[0.2, 0.1, 0.3, 0, 0.2, 0.2])"
   ]
  },
  {
   "cell_type": "code",
   "execution_count": 33,
   "id": "abef1b61-1019-47d8-8b50-8a072dce4485",
   "metadata": {},
   "outputs": [
    {
     "data": {
      "text/plain": [
       "array([3, 6, 9, 0, 8, 4, 5], dtype=int64)"
      ]
     },
     "execution_count": 33,
     "metadata": {},
     "output_type": "execute_result"
    }
   ],
   "source": [
    "# Choose a sample of 7 integers from the range 0-10, without duplicates.\n",
    "rng.choice(10, 7, replace=False)"
   ]
  },
  {
   "cell_type": "code",
   "execution_count": null,
   "id": "e04adafa-9bb5-4dc1-813b-865cbcc7060f",
   "metadata": {},
   "outputs": [],
   "source": []
  },
  {
   "cell_type": "markdown",
   "id": "22409994-6ae1-437f-b8ab-55dacb8b2bf8",
   "metadata": {},
   "source": [
    "## Permutations functions \n",
    "There are two permutations functions: \"shuffle\" and \"permutation\". The shuffle function mixes the array along the first axis of a multi-dimensional array. The parameter passed in is the array, list or mutable sequence to be shuffled. [1] For multi-demensional arrays, the order of the sub arrays are changed but the elements inside remain the same. The permutation function mixes the elements inside an array randomly. If an integer (x) is passed into the function, it will return a shuffled range up to but not including x."
   ]
  },
  {
   "cell_type": "code",
   "execution_count": 34,
   "id": "42259e08-a848-4884-97e9-4b84a1c8ab5b",
   "metadata": {},
   "outputs": [
    {
     "data": {
      "text/plain": [
       "array([0, 1, 2, 3, 4, 5, 6, 7, 8, 9])"
      ]
     },
     "execution_count": 34,
     "metadata": {},
     "output_type": "execute_result"
    }
   ],
   "source": [
    "# Create and array 'arr'\n",
    "rng = np.random.default_rng()\n",
    "arr = np.arange(10)\n",
    "arr"
   ]
  },
  {
   "cell_type": "markdown",
   "id": "40c3099c-92ed-4533-bc1e-8120ca19f528",
   "metadata": {},
   "source": [
    "##  Shuffle function"
   ]
  },
  {
   "cell_type": "code",
   "execution_count": 35,
   "id": "c8004012-ec76-463b-b5c7-b8636b0c7d1d",
   "metadata": {},
   "outputs": [
    {
     "data": {
      "text/plain": [
       "array([3, 7, 1, 0, 4, 8, 9, 2, 5, 6])"
      ]
     },
     "execution_count": 35,
     "metadata": {},
     "output_type": "execute_result"
    }
   ],
   "source": [
    "# Shuffle the array \n",
    "rng.shuffle(arr)\n",
    "arr"
   ]
  },
  {
   "cell_type": "code",
   "execution_count": 36,
   "id": "aa0e5320-2568-4723-b6ca-7baaf50970f2",
   "metadata": {},
   "outputs": [
    {
     "data": {
      "text/plain": [
       "array([[3, 7],\n",
       "       [1, 0],\n",
       "       [4, 8],\n",
       "       [9, 2],\n",
       "       [5, 6]])"
      ]
     },
     "execution_count": 36,
     "metadata": {},
     "output_type": "execute_result"
    }
   ],
   "source": [
    "# Reshape the array \n",
    "newarr = arr.reshape(5,2)\n",
    "newarr"
   ]
  },
  {
   "cell_type": "code",
   "execution_count": 37,
   "id": "95ec2072-2869-487d-b60b-c03539754efd",
   "metadata": {},
   "outputs": [
    {
     "data": {
      "text/plain": [
       "array([7, 8, 5, 3, 1, 9, 4, 0, 6, 2])"
      ]
     },
     "execution_count": 37,
     "metadata": {},
     "output_type": "execute_result"
    }
   ],
   "source": [
    "# Shuffle the newly arranged array\n",
    "np.random.shuffle(arr)\n",
    "arr"
   ]
  },
  {
   "cell_type": "markdown",
   "id": "a5710df5-b392-4693-b55e-d41fc71e54b5",
   "metadata": {},
   "source": [
    "We can see that the elements in each array remain the same, but the positions of each sub array is randomized (shuffled)"
   ]
  },
  {
   "cell_type": "code",
   "execution_count": null,
   "id": "8f9c671c-a9ef-4fb5-81e0-4f121e3e6a81",
   "metadata": {},
   "outputs": [],
   "source": []
  },
  {
   "cell_type": "code",
   "execution_count": null,
   "id": "eafb9103-bfe6-40fa-a92b-b7d60c5b6f71",
   "metadata": {},
   "outputs": [],
   "source": []
  },
  {
   "cell_type": "markdown",
   "id": "cdba2bd0-e254-41ae-a047-ab8cbe8335c3",
   "metadata": {},
   "source": [
    "## Permutations function"
   ]
  },
  {
   "cell_type": "code",
   "execution_count": 38,
   "id": "99a95bcd-a0eb-4a9c-8cff-80d11459aef5",
   "metadata": {},
   "outputs": [
    {
     "data": {
      "text/plain": [
       "array([5, 4, 3, 0, 7, 2, 9, 1, 8, 6])"
      ]
     },
     "execution_count": 38,
     "metadata": {},
     "output_type": "execute_result"
    }
   ],
   "source": [
    "# Randomly arrange a sequence up to 10\n",
    "rng = np.random.default_rng()\n",
    "rng.permutation(10)\n"
   ]
  },
  {
   "cell_type": "code",
   "execution_count": 39,
   "id": "38d399ae-0d06-4776-b94a-f16362a4098f",
   "metadata": {},
   "outputs": [
    {
     "data": {
      "text/plain": [
       "array([3, 0, 8, 4, 2, 1, 7, 6, 9, 5])"
      ]
     },
     "execution_count": 39,
     "metadata": {},
     "output_type": "execute_result"
    }
   ],
   "source": [
    "# Randomly arrange the array I created earlier\n",
    "rng.permutation(arr)"
   ]
  },
  {
   "cell_type": "code",
   "execution_count": 40,
   "id": "9a79301a-3aeb-498c-b0ca-39ef3511bc34",
   "metadata": {},
   "outputs": [
    {
     "data": {
      "text/plain": [
       "array([[7, 8],\n",
       "       [5, 3],\n",
       "       [1, 9],\n",
       "       [4, 0],\n",
       "       [6, 2]])"
      ]
     },
     "execution_count": 40,
     "metadata": {},
     "output_type": "execute_result"
    }
   ],
   "source": [
    "rng.permutation(newarr)\n",
    "newarr"
   ]
  },
  {
   "cell_type": "code",
   "execution_count": null,
   "id": "763a1b21-ade4-4a33-ae96-cc48ef0125c7",
   "metadata": {},
   "outputs": [],
   "source": []
  },
  {
   "cell_type": "markdown",
   "id": "d71aad60-907d-4c2c-aff6-9afd3dd9e3f9",
   "metadata": {},
   "source": [
    "# Explain the use and purpose of at least five “Distributions” functions\n",
    "***\n"
   ]
  },
  {
   "cell_type": "markdown",
   "id": "bd47ce8f-9566-4d30-857d-73ae1d274430",
   "metadata": {},
   "source": [
    "\"A probability distribution is the mathematical function that gives the probabilities of occurrence of different possible outcomes for an experiment\" [8] There are many different types of probability distributions."
   ]
  },
  {
   "cell_type": "markdown",
   "id": "20384763-389d-4144-8738-7f3f031b4cb6",
   "metadata": {},
   "source": []
  },
  {
   "cell_type": "markdown",
   "id": "52c14c70-e63f-46bb-a20c-279aeba0d05a",
   "metadata": {},
   "source": []
  },
  {
   "cell_type": "markdown",
   "id": "7f8d329c-6ba9-4377-bc8c-2bcd2cf1ea85",
   "metadata": {},
   "source": [
    "## Rayleigh Distribution"
   ]
  },
  {
   "cell_type": "markdown",
   "id": "5b6a812c-9a73-45b3-8fc9-0e572311a3e8",
   "metadata": {},
   "source": [
    "The raleigh distribution is used in signal processing."
   ]
  },
  {
   "cell_type": "markdown",
   "id": "e15e357a-101b-4852-9002-ecd13355bc39",
   "metadata": {},
   "source": [
    "**Code:** random.Generator.rayleigh(scale=1.0, size=None)"
   ]
  },
  {
   "cell_type": "markdown",
   "id": "24c71694-28b5-42b6-8dbe-43647f2c2f24",
   "metadata": {},
   "source": [
    "**Example:**"
   ]
  },
  {
   "cell_type": "markdown",
   "id": "b1237af9-5d17-49eb-9992-a17686270c53",
   "metadata": {},
   "source": []
  },
  {
   "cell_type": "code",
   "execution_count": 52,
   "id": "bb7012e7-9c77-4379-b540-02fc28b967f7",
   "metadata": {},
   "outputs": [],
   "source": [
    "# Draw sample from Rayleigh distribution with standard deviation of 2 and size\n",
    "s= np.random.rayleigh(size= 1000)"
   ]
  },
  {
   "cell_type": "markdown",
   "id": "2ed13e73-205d-4f81-b5c1-aa346a4096b5",
   "metadata": {},
   "source": [
    "Visualise the Ralgeigh distribution [13]:"
   ]
  },
  {
   "cell_type": "code",
   "execution_count": 53,
   "id": "ff7d38ab-11ca-44f1-b734-79875be55224",
   "metadata": {},
   "outputs": [
    {
     "data": {
      "image/png": "[encoded data removed]",
      "text/plain": [
       "<Figure size 360x360 with 1 Axes>"
      ]
     },
     "metadata": {
      "needs_background": "light"
     },
     "output_type": "display_data"
    }
   ],
   "source": [
    "#Plot sample from Raleigh distribution \n",
    "sns.displot(s, kind=\"kde\")\n",
    "\n",
    "plt.show()"
   ]
  },
  {
   "cell_type": "markdown",
   "id": "bafbb877-86fb-497f-8d2d-c8cfa4401608",
   "metadata": {},
   "source": [
    "Kernel density estimation is a technique that let’s you create a smooth curve with a set of data. [14]"
   ]
  },
  {
   "cell_type": "markdown",
   "id": "8824ef14-4d91-416d-aef1-9e447bf4eb2c",
   "metadata": {},
   "source": [
    "## Poisson distribution"
   ]
  },
  {
   "cell_type": "markdown",
   "id": "a93d806c-4b72-468e-ac5d-c64b5038f4a1",
   "metadata": {},
   "source": [
    "The poisson distribution measures the probability of a given number of events happening in a specified time period when you know how often the event has occurred. [10] They are often used to model events that occur at a constant rate within a given interval of time. It is a discrete distribution."
   ]
  },
  {
   "cell_type": "markdown",
   "id": "f9f8435d-66bc-4665-9a20-e167793f23ce",
   "metadata": {},
   "source": [
    "**Code:** random.Generator.poisson(lam=1.0, size=None)"
   ]
  },
  {
   "cell_type": "markdown",
   "id": "b1dc8650-aa05-45ac-9006-25837ce80c84",
   "metadata": {},
   "source": [
    "**Example**"
   ]
  },
  {
   "cell_type": "markdown",
   "id": "c2666914-3a54-4ac0-bdd1-97305c4b3adc",
   "metadata": {},
   "source": [
    "Samples to be taken from the distribution:"
   ]
  },
  {
   "cell_type": "code",
   "execution_count": null,
   "id": "2f2db83c-cec7-4f18-a4bd-fd6105c68a34",
   "metadata": {},
   "outputs": [],
   "source": [
    "import numpy as np\n",
    "rng = np.random.default_rng()\n",
    "# Generate a random 1x100000 distribution for 5 occurences\n",
    "s = rng.poisson(5, 10000)\n"
   ]
  },
  {
   "cell_type": "code",
   "execution_count": null,
   "id": "b3ec16fc-82f7-477c-accf-d40aa3b4d933",
   "metadata": {},
   "outputs": [],
   "source": [
    "import matplotlib.pyplot as plt\n",
    "plt.hist(s, 14)\n",
    "plt.show()"
   ]
  },
  {
   "cell_type": "markdown",
   "id": "caa8a0f7-9826-4440-a822-7631a74fa43f",
   "metadata": {},
   "source": [
    "### Binomial distribution"
   ]
  },
  {
   "cell_type": "markdown",
   "id": "a1d1585a-722f-4d0b-9ab7-13733bf80770",
   "metadata": {},
   "source": [
    "The binomial distribution has two possible outcomes. For example, a coin toss has two possible outcomes, heads or tails. A binomial distribtuion must meet the following three criteria: Each trail is independent, meaning the outcome of one trial has no effect on the other. The probability of success or failure (heads or tails) does not change from one trial to another. Finally, the number of trials must be fixed. [11]"
   ]
  },
  {
   "cell_type": "markdown",
   "id": "4207e36d-dd85-489a-9fbd-a2debe51e25d",
   "metadata": {},
   "source": [
    "**example**"
   ]
  },
  {
   "cell_type": "markdown",
   "id": "96e70775-3c99-41a2-92e6-a08435eabc64",
   "metadata": {},
   "source": [
    "Draw samples from the dsitribution:"
   ]
  },
  {
   "cell_type": "code",
   "execution_count": null,
   "id": "c47abd65-fa12-4c3c-95d3-e583b62ba13e",
   "metadata": {},
   "outputs": [],
   "source": [
    "rng = np.random.default_rng()\n",
    "# The coin is tossed 10 times, with the probability of heads being 0.5. This experiment is carried out 10000 times. \n",
    "h = rng.binomial(10, 0.5, 10000)\n",
    "\n",
    "\n"
   ]
  },
  {
   "cell_type": "markdown",
   "id": "6231b7c7-7909-427c-b058-08ff61edc591",
   "metadata": {},
   "source": [
    "Display histogram of the sample:"
   ]
  },
  {
   "cell_type": "code",
   "execution_count": null,
   "id": "e4cddf5d-8e23-4b83-a071-2d490e425d0f",
   "metadata": {},
   "outputs": [],
   "source": [
    "plt.hist(h)"
   ]
  },
  {
   "cell_type": "markdown",
   "id": "63e14d89-d0fe-4909-b1cc-ee484492abe3",
   "metadata": {},
   "source": [
    "### Multinomial distribution"
   ]
  },
  {
   "cell_type": "markdown",
   "id": "818be60f-9954-41f1-a5d2-3c660656ab18",
   "metadata": {},
   "source": [
    "A multinomial trial is the same as a binomial trial except for one difference: in a multinomial experiment, each trial can have two ***or more*** possible outcomes. A multinomial distribution is the probability distribution of the outcomes from a multinomial experiment. Throwing a dice is an example of a multinomial experiment. Instead of two possible outcomes (tossing a coin), theres are six. Each sample drawn from the distribution represents ***n*** such experiments. Like the binomial distribution, the trials are independent, the probabilities remain the same for each trial and the experiment consists of n repeated trials. [12]"
   ]
  },
  {
   "cell_type": "markdown",
   "id": "54fbbcca-7cdf-422e-9258-05b046cb2e4a",
   "metadata": {},
   "source": [
    "**Examples**"
   ]
  },
  {
   "cell_type": "markdown",
   "id": "cdb1169e-1ba2-43b7-94c6-a22f48adf1b9",
   "metadata": {},
   "source": [
    "Throw a dice 50 times:"
   ]
  },
  {
   "cell_type": "code",
   "execution_count": null,
   "id": "20bd17ad-9f2b-498f-9bd5-62f584cc721f",
   "metadata": {},
   "outputs": [],
   "source": [
    "rng = np.random.default_rng()\n",
    "# number of experiments is 50. The probability of each individual value occuring is 1/6.\n",
    "rng.multinomial(50, [1/6.]*6, size=1)"
   ]
  },
  {
   "cell_type": "markdown",
   "id": "661e5b1e-7f4e-4008-90b0-63204b75247f",
   "metadata": {},
   "source": [
    "1 was rolled 11 times, 2 was rolled 9 times, 3 was rolled 8 times etc"
   ]
  },
  {
   "cell_type": "markdown",
   "id": "1032a574-8c56-43e9-94a0-74b0e753e334",
   "metadata": {},
   "source": [
    "Throw a dice 50 times, then 50 times again."
   ]
  },
  {
   "cell_type": "code",
   "execution_count": null,
   "id": "1e7e6312-384f-4108-bb2a-cf39f4338f4b",
   "metadata": {},
   "outputs": [],
   "source": [
    "# Same code as above, but size is 2. This means that two arrays of values will be returned.\n",
    "rng.multinomial(50, [1/6.]*6, size=2)"
   ]
  },
  {
   "cell_type": "markdown",
   "id": "f3213dae-9d56-497a-b407-4fabb26766d0",
   "metadata": {},
   "source": [
    "The first time, 1 was rolled 5 times, 2 was rolled 10 times etc. The second time, 1 was rolled 10 times, 2 was rolled 5 times etc."
   ]
  },
  {
   "cell_type": "markdown",
   "id": "4aa37373-1ffd-47fe-9e18-77217d3feec8",
   "metadata": {},
   "source": [
    "The probabilities can be made uneven to simulate a loaded die:"
   ]
  },
  {
   "cell_type": "code",
   "execution_count": null,
   "id": "fdb6325c-7a49-4709-a0d3-8749430170f0",
   "metadata": {},
   "outputs": [],
   "source": [
    "# Roll the die 1000 times. The probability of rolling a 1,2,3,4 or 5 is set to 1/8.  \n",
    "rng.multinomial(1000, [1/8]*5 + [1/8])"
   ]
  },
  {
   "cell_type": "markdown",
   "id": "20db6195-2b80-449d-8dcd-a390e46f3d49",
   "metadata": {},
   "source": [
    "The last p-value is ignored and accounts for the remaining probability. We can see that 6 has a much higher probability of being rolled."
   ]
  },
  {
   "cell_type": "markdown",
   "id": "dea534c3-25ec-4bc8-aa77-87367e81a3a3",
   "metadata": {},
   "source": [
    "## Uniform distribution"
   ]
  },
  {
   "cell_type": "markdown",
   "id": "962bc818-f973-4aa7-a48e-4c782539c635",
   "metadata": {},
   "source": [
    "In this distribution, each event is equally likely to occur."
   ]
  },
  {
   "cell_type": "markdown",
   "id": "43990399-55bb-4624-af65-9e8026e3e087",
   "metadata": {},
   "source": [
    "**Code:** random.Generator.uniform(low=0.0, high=1.0, size=None)"
   ]
  },
  {
   "cell_type": "markdown",
   "id": "6cfb9bd9-8c8f-4ce3-9ed6-f4dc30fb0247",
   "metadata": {},
   "source": [
    "Gather samples from the distribution:"
   ]
  },
  {
   "cell_type": "code",
   "execution_count": null,
   "id": "7962f8f1-93f9-4700-a7fd-238c177287e6",
   "metadata": {},
   "outputs": [],
   "source": [
    "# Draw 1000 floats from 0 up to but not including 1.\n",
    "d = np.random.default_rng().uniform(0,1,1000)\n"
   ]
  },
  {
   "cell_type": "code",
   "execution_count": null,
   "id": "39743e90-36eb-4d0b-b6f5-112b3eba53f3",
   "metadata": {},
   "outputs": [],
   "source": [
    "# plot the data\n",
    "plt.hist(d)"
   ]
  },
  {
   "cell_type": "markdown",
   "id": "30e9b447-6813-4ee1-b9c7-eb4016e01ed7",
   "metadata": {},
   "source": [
    "We can see that the plot is fairly uniform. However, if the sample size is increased, the plot will become more and more uniform (flat):"
   ]
  },
  {
   "cell_type": "code",
   "execution_count": null,
   "id": "7d86ae05-8972-4468-a7de-3ad4561fa9d6",
   "metadata": {},
   "outputs": [],
   "source": [
    "# Draw 10000 floats from 0 up to but not including 1.\n",
    "s = np.random.default_rng().uniform(0,1,10000)"
   ]
  },
  {
   "cell_type": "code",
   "execution_count": null,
   "id": "0858e60b-cf08-4489-b7cf-26e22a2cc471",
   "metadata": {},
   "outputs": [],
   "source": [
    "plt.hist(s)"
   ]
  },
  {
   "cell_type": "code",
   "execution_count": null,
   "id": "a8facc4e-d7c6-4e1a-ae18-102022e367ba",
   "metadata": {},
   "outputs": [],
   "source": []
  },
  {
   "cell_type": "markdown",
   "id": "abc252cf-922c-41d2-98ad-8a59b752482c",
   "metadata": {},
   "source": [
    "# Explain the use of seeds in generating pseudorandom numbers\n",
    "***\n"
   ]
  },
  {
   "cell_type": "markdown",
   "id": "593d258f-7b3e-4172-a714-029908e07719",
   "metadata": {},
   "source": [
    "A pseudorandom number generator is an algorithm that uses mathematical formulas to create sequences of random numbers. The numbers produced are an approximation of, but not true random numbers. The numpy-random module uses the Mersenne Twister algorithm. The seed is a starting point for a sequence of pseudorandom numbers. Thus, if the exact same seed were chosen again, the same sequence will be produced."
   ]
  },
  {
   "cell_type": "markdown",
   "id": "7ee418a0-550a-4a99-be97-d752070c9bac",
   "metadata": {},
   "source": [
    "# References \n",
    "***\n",
    "[1] https://numpy.org/doc/stable/reference/random/generated/numpy.random.shuffle.html"
   ]
  },
  {
   "cell_type": "markdown",
   "id": "033c9b60-3b14-4fb0-94b7-cebdb1d06dbb",
   "metadata": {},
   "source": [
    "[2] https://numpy.org/doc/stable/reference/random/generated/numpy.random.Generator.integers.html#numpy.random.Generator.integers"
   ]
  },
  {
   "cell_type": "markdown",
   "id": "95194605-3090-4407-975f-7f985c38e4de",
   "metadata": {},
   "source": [
    "[3] https://numpy.org/doc/stable/reference/arrays.dtypes.html"
   ]
  },
  {
   "cell_type": "markdown",
   "id": "98c6fe1b-bc17-4e65-8977-013fc81102bd",
   "metadata": {},
   "source": [
    "[4] https://mathworld.wolfram.com/Half-ClosedInterval.html"
   ]
  },
  {
   "cell_type": "markdown",
   "id": "b5b00a2c-9b70-418f-a8c0-639ab4ebc116",
   "metadata": {},
   "source": [
    "[5] https://numpy.org/doc/stable/reference/random/generated/numpy.random.Generator.random.html#numpy.random.Generator.random"
   ]
  },
  {
   "cell_type": "markdown",
   "id": "b5e4e481-e2a3-44d2-bac3-6a2ce8dac116",
   "metadata": {},
   "source": [
    "[6] https://numpy.org/doc/stable/reference/random/generated/numpy.random.Generator.choice.html#numpy.random.Generator.choice"
   ]
  },
  {
   "cell_type": "markdown",
   "id": "fbf969ca-be8d-4768-8903-d236b350a768",
   "metadata": {},
   "source": [
    "[7] https://numpy.org/doc/stable/reference/generated/numpy.arange.html"
   ]
  },
  {
   "cell_type": "markdown",
   "id": "f3c7dd7f-8df3-48ec-b5cd-9610f4a7d4a9",
   "metadata": {},
   "source": [
    "[8] https://en.wikipedia.org/wiki/Probability_distribution#cite_note-:02-1"
   ]
  },
  {
   "cell_type": "markdown",
   "id": "1b27f28e-1cdd-4ee2-83cc-2913f33f79ef",
   "metadata": {},
   "source": [
    "[9] https://www.statisticshowto.com/geometric-distribution/"
   ]
  },
  {
   "cell_type": "markdown",
   "id": "2d0d09f0-96dd-4ec1-a9c5-55601a4ed06c",
   "metadata": {},
   "source": [
    "[10] https://www.statisticshowto.com/probability-and-statistics/statistics-definitions/probability-distribution/poisson-distribution/"
   ]
  },
  {
   "cell_type": "markdown",
   "id": "becd126f-9010-4b59-b4fd-ba4d88353c71",
   "metadata": {},
   "source": [
    "\n"
   ]
  },
  {
   "cell_type": "markdown",
   "id": "d442a2c9-b23f-4164-9374-e3c44070a714",
   "metadata": {},
   "source": [
    "[11] https://www.statisticshowto.com/probability-and-statistics/binomial-theorem/binomial-distribution-formula/"
   ]
  },
  {
   "cell_type": "markdown",
   "id": "4a09fd70-10dc-46e0-b2ca-24a065b1adcc",
   "metadata": {},
   "source": [
    "[12] https://stattrek.com/probability-distributions/multinomial.aspx"
   ]
  },
  {
   "cell_type": "markdown",
   "id": "05af604e-8b08-4264-bd37-1e01fbdd66b3",
   "metadata": {},
   "source": [
    "[13] https://seaborn.pydata.org/generated/seaborn.displot.html#seaborn.displot"
   ]
  },
  {
   "cell_type": "markdown",
   "id": "075a638f-dee7-473b-8df4-e5f53fc2b3c0",
   "metadata": {},
   "source": [
    "[14] https://mathisonian.github.io/kde/"
   ]
  },
  {
   "cell_type": "code",
   "execution_count": null,
   "id": "1ea2a614-2952-4d93-ba2b-f605f5ccca9f",
   "metadata": {},
   "outputs": [],
   "source": []
  },
  {
   "cell_type": "code",
   "execution_count": null,
   "id": "0a8f8597-a83f-4e4b-89f5-90d2ff86cc5b",
   "metadata": {},
   "outputs": [],
   "source": []
  },
  {
   "cell_type": "code",
   "execution_count": null,
   "id": "e0a1fc68-5f81-4133-9282-f3a27f0d2722",
   "metadata": {},
   "outputs": [],
   "source": []
  },
  {
   "cell_type": "code",
   "execution_count": null,
   "id": "97cdda95-6562-49fe-98c0-b440853cd668",
   "metadata": {},
   "outputs": [],
   "source": []
  },
  {
   "cell_type": "code",
   "execution_count": null,
   "id": "77b8fe38-6ad7-4344-9fc3-e8f5240130e6",
   "metadata": {},
   "outputs": [],
   "source": []
  },
  {
   "cell_type": "code",
   "execution_count": null,
   "id": "ee9ca819-23bc-468b-9b00-691399e8a4bb",
   "metadata": {},
   "outputs": [],
   "source": []
  },
  {
   "cell_type": "code",
   "execution_count": null,
   "id": "d943cfcb-b8ee-401e-bf15-7f5bb93ed3af",
   "metadata": {},
   "outputs": [],
   "source": []
  },
  {
   "cell_type": "code",
   "execution_count": null,
   "id": "c4e28563-dffb-4cf2-9d80-91a71dde139e",
   "metadata": {},
   "outputs": [],
   "source": []
  },
  {
   "cell_type": "code",
   "execution_count": null,
   "id": "3d8de6b5-4aa1-48ef-bb6f-c4f0466f9b2e",
   "metadata": {},
   "outputs": [],
   "source": []
  },
  {
   "cell_type": "code",
   "execution_count": null,
   "id": "6d61f008-c948-4d2b-b742-5884e7acd917",
   "metadata": {},
   "outputs": [],
   "source": []
  },
  {
   "cell_type": "code",
   "execution_count": null,
   "id": "4c27b5bc-9475-439b-b0a0-4038799120c6",
   "metadata": {},
   "outputs": [],
   "source": []
  },
  {
   "cell_type": "code",
   "execution_count": null,
   "id": "7fcb5c8a-bb5b-4a0c-ba8d-dd1d5bf76355",
   "metadata": {},
   "outputs": [],
   "source": []
  },
  {
   "cell_type": "code",
   "execution_count": null,
   "id": "b57a90a8-87a0-4821-a8f7-0a8353704db0",
   "metadata": {},
   "outputs": [],
   "source": []
  },
  {
   "cell_type": "code",
   "execution_count": null,
   "id": "d61aa602-81ea-4674-89e5-7126c92c584d",
   "metadata": {},
   "outputs": [],
   "source": []
  },
  {
   "cell_type": "code",
   "execution_count": null,
   "id": "f0c08e42-af3d-4808-a973-79243cd902f5",
   "metadata": {},
   "outputs": [],
   "source": []
  },
  {
   "cell_type": "code",
   "execution_count": null,
   "id": "a3d6e8ec-a2a3-4f6e-84b2-43f0f226536f",
   "metadata": {},
   "outputs": [],
   "source": []
  },
  {
   "cell_type": "code",
   "execution_count": null,
   "id": "dede34b5-2fcb-4b36-b6c3-bb8e9a4a936e",
   "metadata": {},
   "outputs": [],
   "source": [
    "\n"
   ]
  },
  {
   "cell_type": "code",
   "execution_count": null,
   "id": "fb4e8c54-66cf-4f51-993e-9f1ff9110155",
   "metadata": {},
   "outputs": [],
   "source": []
  },
  {
   "cell_type": "code",
   "execution_count": null,
   "id": "2bdd8064-61fc-4fe8-951e-d1b8c3d62ddd",
   "metadata": {},
   "outputs": [],
   "source": []
  },
  {
   "cell_type": "code",
   "execution_count": null,
   "id": "0dd62fb0-296c-4375-bcd7-f696b8ed496d",
   "metadata": {},
   "outputs": [],
   "source": []
  }
 ],
 "metadata": {
  "kernelspec": {
   "display_name": "Python 3",
   "language": "python",
   "name": "python3"
  },
  "language_info": {
   "codemirror_mode": {
    "name": "ipython",
    "version": 3
   },
   "file_extension": ".py",
   "mimetype": "text/x-python",
   "name": "python",
   "nbconvert_exporter": "python",
   "pygments_lexer": "ipython3",
   "version": "3.8.8"
  }
 },
 "nbformat": 4,
 "nbformat_minor": 5
}
